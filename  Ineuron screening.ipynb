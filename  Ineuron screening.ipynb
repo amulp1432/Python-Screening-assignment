{
 "cells": [
  {
   "cell_type": "markdown",
   "id": "0fbd93ac",
   "metadata": {},
   "source": [
    "# Question-2 Demonstrate the use of abstract class,multiple inheritence and decorator in python using example?"
   ]
  },
  {
   "cell_type": "markdown",
   "id": "3057a2d3",
   "metadata": {},
   "source": [
    "# Decorator in python"
   ]
  },
  {
   "cell_type": "markdown",
   "id": "302078b7",
   "metadata": {},
   "source": [
    "* Decorator is a  function, which takes argument as a function,it will modify this function and then return the function\n",
    "* In simple language, I can say that it will decorate(modify) the function."
   ]
  },
  {
   "cell_type": "markdown",
   "id": "3da29232",
   "metadata": {},
   "source": [
    "## Problem Statement:\n",
    "* Consider for a student in academic, he has scored in 5 subject out of 100 marks each. Student gets passed if he score at least 30 marks in each subject otherwise fail, If a student has got more than 75 marks then mark it as distinction."
   ]
  },
  {
   "cell_type": "code",
   "execution_count": 1,
   "id": "4f64571d",
   "metadata": {},
   "outputs": [],
   "source": [
    "def result(marks):\n",
    "    for m in marks:\n",
    "        if m >=30:\n",
    "            pass\n",
    "        else:\n",
    "            return \"Fail\"\n",
    "            break\n",
    "    else:\n",
    "        print('pass')"
   ]
  },
  {
   "cell_type": "markdown",
   "id": "f73b860b",
   "metadata": {},
   "source": [
    "* above I have created a simple function for pass or fail, let's modify this function"
   ]
  },
  {
   "cell_type": "code",
   "execution_count": 2,
   "id": "4de12d0a",
   "metadata": {},
   "outputs": [
    {
     "name": "stdout",
     "output_type": "stream",
     "text": [
      "pass\n"
     ]
    }
   ],
   "source": [
    "result([39,38,45,69,84])"
   ]
  },
  {
   "cell_type": "code",
   "execution_count": 3,
   "id": "e8053482",
   "metadata": {},
   "outputs": [
    {
     "data": {
      "text/plain": [
       "'Fail'"
      ]
     },
     "execution_count": 3,
     "metadata": {},
     "output_type": "execute_result"
    }
   ],
   "source": [
    "result([59,23,59,34,35])"
   ]
  },
  {
   "cell_type": "code",
   "execution_count": 4,
   "id": "f034baae",
   "metadata": {},
   "outputs": [],
   "source": [
    "def decor_result(result_function):\n",
    "    def distinction(marks):\n",
    "        for m in marks:\n",
    "            if m>=75:\n",
    "                print('distinction')\n",
    "        result_function(marks)\n",
    "    return distinction\n",
    "        "
   ]
  },
  {
   "cell_type": "code",
   "execution_count": 5,
   "id": "74b63e2b",
   "metadata": {},
   "outputs": [],
   "source": [
    "@decor_result\n",
    "def result(marks):\n",
    "    for m in marks:\n",
    "        if m >=30:\n",
    "            pass\n",
    "        else:\n",
    "            return \"Fail\"\n",
    "            break\n",
    "    else:\n",
    "        print('pass')"
   ]
  },
  {
   "cell_type": "code",
   "execution_count": 6,
   "id": "ac798022",
   "metadata": {},
   "outputs": [
    {
     "name": "stdout",
     "output_type": "stream",
     "text": [
      "distinction\n",
      "distinction\n",
      "pass\n"
     ]
    }
   ],
   "source": [
    "result([45,39,60,94,93])"
   ]
  },
  {
   "cell_type": "markdown",
   "id": "0f8a9510",
   "metadata": {},
   "source": [
    "# Multiple inheritence in python"
   ]
  },
  {
   "cell_type": "markdown",
   "id": "2db89c33",
   "metadata": {},
   "source": [
    "* When a class is derived from more than one base class it is called multiple Inheritance. The derived class inherits all the features of the base case"
   ]
  },
  {
   "cell_type": "code",
   "execution_count": 7,
   "id": "61f4dfe7",
   "metadata": {},
   "outputs": [],
   "source": [
    "class A:\n",
    "    def method1(self):\n",
    "        print(\"A class method is called\")"
   ]
  },
  {
   "cell_type": "code",
   "execution_count": 8,
   "id": "b9f91f4d",
   "metadata": {},
   "outputs": [],
   "source": [
    "class B(A):\n",
    "    def method1(self):\n",
    "        print(\"B class method is called\")\n",
    "    def method2(self):\n",
    "        print(\"B class method2 is called\")"
   ]
  },
  {
   "cell_type": "code",
   "execution_count": 9,
   "id": "711b7ed6",
   "metadata": {},
   "outputs": [],
   "source": [
    "class C(A):\n",
    "    def method1(self):\n",
    "        print(\"C class method is called\")"
   ]
  },
  {
   "cell_type": "code",
   "execution_count": 10,
   "id": "31bcdff3",
   "metadata": {},
   "outputs": [],
   "source": [
    "class D(B,C):\n",
    "    def method1(self):\n",
    "        print(\"D class method is called\")\n",
    "        C.method1(self)\n",
    "        B.method1(self)\n",
    "        A.method1(self)\n",
    "    "
   ]
  },
  {
   "cell_type": "code",
   "execution_count": 11,
   "id": "44bf29b8",
   "metadata": {},
   "outputs": [],
   "source": [
    "d=D()"
   ]
  },
  {
   "cell_type": "code",
   "execution_count": 12,
   "id": "db9d13a9",
   "metadata": {},
   "outputs": [
    {
     "name": "stdout",
     "output_type": "stream",
     "text": [
      "D class method is called\n",
      "C class method is called\n",
      "B class method is called\n",
      "A class method is called\n"
     ]
    }
   ],
   "source": [
    "d.method1()"
   ]
  },
  {
   "cell_type": "code",
   "execution_count": 13,
   "id": "b8d577bb",
   "metadata": {},
   "outputs": [
    {
     "name": "stdout",
     "output_type": "stream",
     "text": [
      "B class method is called\n"
     ]
    }
   ],
   "source": [
    "B.method1(d)"
   ]
  },
  {
   "cell_type": "code",
   "execution_count": 14,
   "id": "7b8ff5fc",
   "metadata": {},
   "outputs": [
    {
     "name": "stdout",
     "output_type": "stream",
     "text": [
      "A class method is called\n"
     ]
    }
   ],
   "source": [
    "A.method1(d)"
   ]
  },
  {
   "cell_type": "markdown",
   "id": "0122609e",
   "metadata": {},
   "source": [
    "# Abstract Class"
   ]
  },
  {
   "cell_type": "markdown",
   "id": "0859407f",
   "metadata": {},
   "source": [
    "* Python don't support abstract class directly but it can be done with the help of a module abc(abstract base class):"
   ]
  },
  {
   "cell_type": "markdown",
   "id": "bc72e42d",
   "metadata": {},
   "source": [
    "* An abstract class can be considered as a blueprint for other classes. It allows you to create a set of methods that must be created within any child classes built from the abstract class. A class which contains one or more abstract methods is called an abstract class."
   ]
  },
  {
   "cell_type": "code",
   "execution_count": 15,
   "id": "f3da3d99",
   "metadata": {},
   "outputs": [],
   "source": [
    "from abc import ABC,abstractmethod"
   ]
  },
  {
   "cell_type": "code",
   "execution_count": 16,
   "id": "3a33f4e7",
   "metadata": {},
   "outputs": [],
   "source": [
    "class Polygon(ABC):\n",
    " \n",
    "    @abstractmethod\n",
    "    def noofsides(self):\n",
    "        pass"
   ]
  },
  {
   "cell_type": "code",
   "execution_count": 17,
   "id": "0e170ad7",
   "metadata": {},
   "outputs": [],
   "source": [
    "class Triangle(Polygon):\n",
    " \n",
    "    # overriding abstract method\n",
    "    def noofsides(self):\n",
    "        print(\"I have 3 sides\")"
   ]
  },
  {
   "cell_type": "code",
   "execution_count": 18,
   "id": "a48f812e",
   "metadata": {},
   "outputs": [],
   "source": [
    "class Pentagon(Polygon):\n",
    " \n",
    "    # overriding abstract method\n",
    "    def noofsides(self):\n",
    "        print(\"I have 5 sides\")"
   ]
  },
  {
   "cell_type": "code",
   "execution_count": 19,
   "id": "2050410c",
   "metadata": {},
   "outputs": [],
   "source": [
    "class Hexagon(Polygon):\n",
    " \n",
    "    # overriding abstract method\n",
    "    def noofsides(self):\n",
    "        print(\"I have 6 sides\")"
   ]
  },
  {
   "cell_type": "code",
   "execution_count": 20,
   "id": "c55382cd",
   "metadata": {},
   "outputs": [],
   "source": [
    "class Quadrilateral(Polygon):\n",
    " \n",
    "    # overriding abstract method\n",
    "    def noofsides(self):\n",
    "        print(\"I have 4 sides\")"
   ]
  },
  {
   "cell_type": "code",
   "execution_count": 21,
   "id": "5e8eff64",
   "metadata": {},
   "outputs": [
    {
     "name": "stdout",
     "output_type": "stream",
     "text": [
      "I have 3 sides\n"
     ]
    }
   ],
   "source": [
    "R = Triangle()\n",
    "R.noofsides()"
   ]
  },
  {
   "cell_type": "code",
   "execution_count": 22,
   "id": "2b769dc0",
   "metadata": {},
   "outputs": [
    {
     "name": "stdout",
     "output_type": "stream",
     "text": [
      "I have 4 sides\n"
     ]
    }
   ],
   "source": [
    "Q=Quadrilateral()\n",
    "Q.noofsides()"
   ]
  },
  {
   "cell_type": "code",
   "execution_count": 23,
   "id": "5f720ace",
   "metadata": {},
   "outputs": [
    {
     "name": "stdout",
     "output_type": "stream",
     "text": [
      "I have 6 sides\n"
     ]
    }
   ],
   "source": [
    "H=Hexagon()\n",
    "H.noofsides()"
   ]
  },
  {
   "cell_type": "code",
   "execution_count": 24,
   "id": "44921b2d",
   "metadata": {},
   "outputs": [
    {
     "name": "stdout",
     "output_type": "stream",
     "text": [
      "I have 5 sides\n"
     ]
    }
   ],
   "source": [
    "P=Pentagon()\n",
    "P.noofsides()"
   ]
  },
  {
   "cell_type": "markdown",
   "id": "294f6c23",
   "metadata": {},
   "source": [
    "# Question-1 Create a function to read the text file and replace specific content of the file."
   ]
  },
  {
   "cell_type": "code",
   "execution_count": 25,
   "id": "53edec37",
   "metadata": {},
   "outputs": [],
   "source": [
    "f=open(\"example.txt\",'w')"
   ]
  },
  {
   "cell_type": "code",
   "execution_count": 26,
   "id": "90aa9364",
   "metadata": {},
   "outputs": [
    {
     "data": {
      "text/plain": [
       "31"
      ]
     },
     "execution_count": 26,
     "metadata": {},
     "output_type": "execute_result"
    }
   ],
   "source": [
    "f.write('this is a placement assignement')"
   ]
  },
  {
   "cell_type": "code",
   "execution_count": 27,
   "id": "7e9e8d46",
   "metadata": {},
   "outputs": [],
   "source": [
    "f.close()"
   ]
  },
  {
   "cell_type": "code",
   "execution_count": 28,
   "id": "f54a10f3",
   "metadata": {},
   "outputs": [],
   "source": [
    "f=open('example.txt')"
   ]
  },
  {
   "cell_type": "code",
   "execution_count": 29,
   "id": "b54a59e3",
   "metadata": {},
   "outputs": [
    {
     "data": {
      "text/plain": [
       "'this is a placement assignement'"
      ]
     },
     "execution_count": 29,
     "metadata": {},
     "output_type": "execute_result"
    }
   ],
   "source": [
    "f.read()"
   ]
  },
  {
   "cell_type": "code",
   "execution_count": 30,
   "id": "74f2ad01",
   "metadata": {},
   "outputs": [
    {
     "data": {
      "text/plain": [
       "11"
      ]
     },
     "execution_count": 30,
     "metadata": {},
     "output_type": "execute_result"
    }
   ],
   "source": [
    "f.seek(11)"
   ]
  },
  {
   "cell_type": "code",
   "execution_count": 31,
   "id": "d4460b55",
   "metadata": {},
   "outputs": [],
   "source": [
    "f=open('example.txt')"
   ]
  },
  {
   "cell_type": "code",
   "execution_count": 32,
   "id": "51034f85",
   "metadata": {},
   "outputs": [
    {
     "data": {
      "text/plain": [
       "'this is a placement assignement'"
      ]
     },
     "execution_count": 32,
     "metadata": {},
     "output_type": "execute_result"
    }
   ],
   "source": [
    "f.read()"
   ]
  },
  {
   "cell_type": "code",
   "execution_count": 33,
   "id": "699e5189",
   "metadata": {},
   "outputs": [],
   "source": [
    "with open('example.txt', 'r') as file :\n",
    "  filedata = file.read()"
   ]
  },
  {
   "cell_type": "code",
   "execution_count": 34,
   "id": "1fe4092c",
   "metadata": {},
   "outputs": [],
   "source": [
    "filedata = filedata.replace('placement', 'screening')"
   ]
  },
  {
   "cell_type": "code",
   "execution_count": 35,
   "id": "96d50358",
   "metadata": {},
   "outputs": [],
   "source": [
    "# Write the file out again\n",
    "with open('example.txt', 'w') as file:\n",
    "  file.write(filedata)"
   ]
  },
  {
   "cell_type": "code",
   "execution_count": 36,
   "id": "8c6e18da",
   "metadata": {},
   "outputs": [],
   "source": [
    "f=open('example.txt')"
   ]
  },
  {
   "cell_type": "code",
   "execution_count": 37,
   "id": "32008a58",
   "metadata": {},
   "outputs": [
    {
     "data": {
      "text/plain": [
       "'this is a screening assignement'"
      ]
     },
     "execution_count": 37,
     "metadata": {},
     "output_type": "execute_result"
    }
   ],
   "source": [
    "f.read()"
   ]
  },
  {
   "cell_type": "code",
   "execution_count": null,
   "id": "0aef1e07",
   "metadata": {},
   "outputs": [],
   "source": []
  }
 ],
 "metadata": {
  "kernelspec": {
   "display_name": "Python 3 (ipykernel)",
   "language": "python",
   "name": "python3"
  },
  "language_info": {
   "codemirror_mode": {
    "name": "ipython",
    "version": 3
   },
   "file_extension": ".py",
   "mimetype": "text/x-python",
   "name": "python",
   "nbconvert_exporter": "python",
   "pygments_lexer": "ipython3",
   "version": "3.9.7"
  }
 },
 "nbformat": 4,
 "nbformat_minor": 5
}
